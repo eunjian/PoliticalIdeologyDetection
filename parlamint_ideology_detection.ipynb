{
 "cells": [
  {
   "cell_type": "code",
   "execution_count": 5,
   "id": "stylish-dover",
   "metadata": {},
   "outputs": [],
   "source": [
    "# Data is seperated by each day in a file by each year folder.\n",
    "# To collect all of the file names of each year folder, save the file name lists into a text file\n",
    "import os\n",
    "\n",
    "for year in range(2015, 2022):# years from 2015 to 2021\n",
    "    f = open(str(year)+'_fnames.txt', 'w') # create a text file which will contain the file names of the year\n",
    "\n",
    "    file_list = os.listdir(str(year)) \n",
    "    file_list\n",
    "    for i in file_list:\n",
    "        f.write(i+'\\n')\n",
    "\n",
    "    f.close()"
   ]
  },
  {
   "cell_type": "code",
   "execution_count": 3,
   "id": "industrial-adult",
   "metadata": {},
   "outputs": [],
   "source": [
    "import tensorflow as tf\n",
    "import tensorflow_hub as hub\n",
    "import tensorflow_text as text\n",
    "import pandas as pd"
   ]
  },
  {
   "cell_type": "code",
   "execution_count": 23,
   "id": "complicated-amber",
   "metadata": {},
   "outputs": [
    {
     "data": {
      "text/plain": [
       "CON    1000\n",
       "LAB    1000\n",
       "Name: Speaker_party, dtype: int64"
      ]
     },
     "execution_count": 23,
     "metadata": {},
     "output_type": "execute_result"
    }
   ],
   "source": [
    "# collect the speech and party affiliation data of 2015 with downsized samples of 1000\n",
    "\n",
    "speech = [] # a list to collect speech data\n",
    "party = [] # a list to collect party affiliation data\n",
    "file_names = pd.read_csv(\"2015_file_names.txt\", header=None) # read the file name lists of the year 2015\n",
    "for f in file_names[0]:\n",
    "    if '.txt' in f: # txt file contains the speech data\n",
    "        text_data = pd.read_csv(\"2015/\"+f, sep='\\t', header=None)\n",
    "        speech.append(text_data.iloc[:,[1]])\n",
    "    else: # tsv file contains the party affiliation data\n",
    "        label_data = pd.read_csv(\"2015/\"+f, sep='\\t')\n",
    "        party.append(label_data[['Speaker_party']])\n",
    "        \n",
    "speech_party = pd.concat([speech[0],party[0]],axis=1) \n",
    "for i in range(1,len(speech)):\n",
    "    sp = pd.concat([speech[i],party[i]],axis=1)\n",
    "    speech_party = pd.concat([speech_party, sp], ignore_index=True)\n",
    "# speech_party['Speaker_party'].value_counts()\n",
    "df_CON = speech_party[speech_party['Speaker_party']=='CON'] # right party\n",
    "df_LAB = speech_party[speech_party['Speaker_party']=='LAB'] # left party\n",
    "            \n",
    "df_CON_downsampled = df_CON.sample(1000) # downsample to 1000 \n",
    "df_LAB_downsampled = df_LAB.sample(1000) # downsample to 1000\n",
    "            \n",
    "df_balanced_2015 = pd.concat([df_CON_downsampled,df_LAB_downsampled]) # downsampled speech data of 2015\n",
    "df_balanced_2015['Speaker_party'].value_counts()"
   ]
  },
  {
   "cell_type": "code",
   "execution_count": 24,
   "id": "disciplinary-federal",
   "metadata": {},
   "outputs": [
    {
     "data": {
      "text/plain": [
       "CON    1000\n",
       "LAB    1000\n",
       "Name: Speaker_party, dtype: int64"
      ]
     },
     "execution_count": 24,
     "metadata": {},
     "output_type": "execute_result"
    }
   ],
   "source": [
    "# collect the speech and party affiliation data of 2016 with downsized samples of 1000\n",
    "\n",
    "speech = [] # a list to collect speech data\n",
    "party = [] # a list to collect party affiliation data\n",
    "file_names = pd.read_csv(\"2016_file_names.txt\", header=None) # read the file name lists of the year 2016\n",
    "for f in file_names[0]:\n",
    "    if '.txt' in f: # txt file contains the speech data\n",
    "        text_data = pd.read_csv(\"2016/\"+f, sep='\\t', header=None)\n",
    "        speech.append(text_data.iloc[:,[1]])\n",
    "    else: # tsv file contains the party affiliation data\n",
    "        label_data = pd.read_csv(\"2016/\"+f, sep='\\t')\n",
    "        party.append(label_data[['Speaker_party']])\n",
    "        \n",
    "speech_party = pd.concat([speech[0],party[0]],axis=1) \n",
    "for i in range(1,len(speech)):\n",
    "    sp = pd.concat([speech[i],party[i]],axis=1)\n",
    "    speech_party = pd.concat([speech_party, sp], ignore_index=True)\n",
    "# speech_party['Speaker_party'].value_counts()\n",
    "df_CON = speech_party[speech_party['Speaker_party']=='CON'] # right party\n",
    "df_LAB = speech_party[speech_party['Speaker_party']=='LAB'] # left party\n",
    "            \n",
    "df_CON_downsampled = df_CON.sample(1000) # downsample to 1000 \n",
    "df_LAB_downsampled = df_LAB.sample(1000) # downsample to 1000\n",
    "            \n",
    "df_balanced_2016 = pd.concat([df_CON_downsampled,df_LAB_downsampled]) # downsampled speech data of 2016\n",
    "df_balanced_2016['Speaker_party'].value_counts()"
   ]
  },
  {
   "cell_type": "code",
   "execution_count": 25,
   "id": "oriented-plumbing",
   "metadata": {},
   "outputs": [
    {
     "data": {
      "text/plain": [
       "CON    1000\n",
       "LAB    1000\n",
       "Name: Speaker_party, dtype: int64"
      ]
     },
     "execution_count": 25,
     "metadata": {},
     "output_type": "execute_result"
    }
   ],
   "source": [
    "# collect the speech and party affiliation data of 2017 with downsized samples of 1000\n",
    "\n",
    "speech = [] # a list to collect speech data\n",
    "party = [] # a list to collect party affiliation data\n",
    "file_names = pd.read_csv(\"2017_file_names.txt\", header=None) # read the file name lists of the year\n",
    "for f in file_names[0]:\n",
    "    if '.txt' in f: # txt file contains the speech data\n",
    "        text_data = pd.read_csv(\"2017/\"+f, sep='\\t', header=None)\n",
    "        speech.append(text_data.iloc[:,[1]])\n",
    "    else: # tsv file contains the party affiliation data\n",
    "        label_data = pd.read_csv(\"2017/\"+f, sep='\\t')\n",
    "        party.append(label_data[['Speaker_party']])\n",
    "        \n",
    "speech_party = pd.concat([speech[0],party[0]],axis=1) \n",
    "for i in range(1,len(speech)):\n",
    "    sp = pd.concat([speech[i],party[i]],axis=1)\n",
    "    speech_party = pd.concat([speech_party, sp], ignore_index=True)\n",
    "# speech_party['Speaker_party'].value_counts()\n",
    "df_CON = speech_party[speech_party['Speaker_party']=='CON'] # right party\n",
    "df_LAB = speech_party[speech_party['Speaker_party']=='LAB'] # left party\n",
    "            \n",
    "df_CON_downsampled = df_CON.sample(1000) # downsample to 1000 \n",
    "df_LAB_downsampled = df_LAB.sample(1000) # downsample to 1000\n",
    "            \n",
    "df_balanced_2017 = pd.concat([df_CON_downsampled,df_LAB_downsampled]) # downsampled speech data of 2017\n",
    "df_balanced_2017['Speaker_party'].value_counts()"
   ]
  },
  {
   "cell_type": "code",
   "execution_count": 27,
   "id": "french-graphic",
   "metadata": {},
   "outputs": [
    {
     "data": {
      "text/plain": [
       "CON    1000\n",
       "LAB    1000\n",
       "Name: Speaker_party, dtype: int64"
      ]
     },
     "execution_count": 27,
     "metadata": {},
     "output_type": "execute_result"
    }
   ],
   "source": [
    "# collect the speech and party affiliation data of 2017 with downsized samples of 1000\n",
    "\n",
    "speech = [] # a list to collect speech data\n",
    "party = [] # a list to collect party affiliation data\n",
    "file_names = pd.read_csv(\"2018_file_names.txt\", header=None) # read the file name lists of the year, 2018\n",
    "for f in file_names[0]:\n",
    "    if '.txt' in f: # txt file contains the speech data\n",
    "        text_data = pd.read_csv(\"2018/\"+f, sep='\\t', header=None)\n",
    "        speech.append(text_data.iloc[:,[1]])\n",
    "    else: # tsv file contains the party affiliation data\n",
    "        label_data = pd.read_csv(\"2018/\"+f, sep='\\t')\n",
    "        party.append(label_data[['Speaker_party']])\n",
    "        \n",
    "speech_party = pd.concat([speech[0],party[0]],axis=1) \n",
    "for i in range(1,len(speech)):\n",
    "    sp = pd.concat([speech[i],party[i]],axis=1)\n",
    "    speech_party = pd.concat([speech_party, sp], ignore_index=True)\n",
    "# speech_party['Speaker_party'].value_counts()\n",
    "df_CON = speech_party[speech_party['Speaker_party']=='CON'] # right party\n",
    "df_LAB = speech_party[speech_party['Speaker_party']=='LAB'] # left party\n",
    "            \n",
    "df_CON_downsampled = df_CON.sample(1000) # downsample to 1000 \n",
    "df_LAB_downsampled = df_LAB.sample(1000) # downsample to 1000\n",
    "            \n",
    "df_balanced_2018 = pd.concat([df_CON_downsampled,df_LAB_downsampled]) # downsampled speech data of 2018\n",
    "df_balanced_2018['Speaker_party'].value_counts()"
   ]
  },
  {
   "cell_type": "code",
   "execution_count": 28,
   "id": "cellular-middle",
   "metadata": {},
   "outputs": [
    {
     "data": {
      "text/plain": [
       "CON    1000\n",
       "LAB    1000\n",
       "Name: Speaker_party, dtype: int64"
      ]
     },
     "execution_count": 28,
     "metadata": {},
     "output_type": "execute_result"
    }
   ],
   "source": [
    "# collect the speech and party affiliation data of 2019 with downsized samples of 1000\n",
    "\n",
    "speech = [] # a list to collect speech data\n",
    "party = [] # a list to collect party affiliation data\n",
    "file_names = pd.read_csv(\"2019_file_names.txt\", header=None) # read the file name lists of the year, 2019\n",
    "for f in file_names[0]:\n",
    "    if '.txt' in f: # txt file contains the speech data\n",
    "        text_data = pd.read_csv(\"2019/\"+f, sep='\\t', header=None)\n",
    "        speech.append(text_data.iloc[:,[1]])\n",
    "    else: # tsv file contains the party affiliation data\n",
    "        label_data = pd.read_csv(\"2019/\"+f, sep='\\t')\n",
    "        party.append(label_data[['Speaker_party']])\n",
    "        \n",
    "speech_party = pd.concat([speech[0],party[0]],axis=1) \n",
    "for i in range(1,len(speech)):\n",
    "    sp = pd.concat([speech[i],party[i]],axis=1)\n",
    "    speech_party = pd.concat([speech_party, sp], ignore_index=True)\n",
    "# speech_party['Speaker_party'].value_counts()\n",
    "df_CON = speech_party[speech_party['Speaker_party']=='CON'] # right party\n",
    "df_LAB = speech_party[speech_party['Speaker_party']=='LAB'] # left party\n",
    "            \n",
    "df_CON_downsampled = df_CON.sample(1000) # downsample to 1000 \n",
    "df_LAB_downsampled = df_LAB.sample(1000) # downsample to 1000\n",
    "            \n",
    "df_balanced_2019 = pd.concat([df_CON_downsampled,df_LAB_downsampled]) # downsampled speech data of 2019\n",
    "df_balanced_2019['Speaker_party'].value_counts()"
   ]
  },
  {
   "cell_type": "code",
   "execution_count": 31,
   "id": "treated-slovenia",
   "metadata": {},
   "outputs": [
    {
     "data": {
      "text/plain": [
       "CON    1000\n",
       "LAB    1000\n",
       "Name: Speaker_party, dtype: int64"
      ]
     },
     "execution_count": 31,
     "metadata": {},
     "output_type": "execute_result"
    }
   ],
   "source": [
    "# collect the speech and party affiliation data of 2020 with downsized samples of 1000\n",
    "\n",
    "speech = [] # a list to collect speech data\n",
    "party = [] # a list to collect party affiliation data\n",
    "file_names = pd.read_csv(\"2020_file_names.txt\", header=None) # read the file name lists of the year, 2020\n",
    "for f in file_names[0]:\n",
    "    if '.txt' in f: # txt file contains the speech data\n",
    "        text_data = pd.read_csv(\"2020/\"+f, sep='\\t', header=None)\n",
    "        speech.append(text_data.iloc[:,[1]])\n",
    "    else: # tsv file contains the party affiliation data\n",
    "        label_data = pd.read_csv(\"2020/\"+f, sep='\\t')\n",
    "        party.append(label_data[['Speaker_party']])\n",
    "        \n",
    "speech_party = pd.concat([speech[0],party[0]],axis=1) \n",
    "for i in range(1,len(speech)):\n",
    "    sp = pd.concat([speech[i],party[i]],axis=1)\n",
    "    speech_party = pd.concat([speech_party, sp], ignore_index=True)\n",
    "# speech_party['Speaker_party'].value_counts()\n",
    "df_CON = speech_party[speech_party['Speaker_party']=='CON'] # right party\n",
    "df_LAB = speech_party[speech_party['Speaker_party']=='LAB'] # left party\n",
    "            \n",
    "df_CON_downsampled = df_CON.sample(1000) # downsample to 1000 \n",
    "df_LAB_downsampled = df_LAB.sample(1000) # downsample to 1000\n",
    "            \n",
    "df_balanced_2020 = pd.concat([df_CON_downsampled,df_LAB_downsampled]) # downsampled speech data of 2020\n",
    "df_balanced_2020['Speaker_party'].value_counts()"
   ]
  },
  {
   "cell_type": "code",
   "execution_count": 29,
   "id": "stuck-interstate",
   "metadata": {},
   "outputs": [
    {
     "data": {
      "text/plain": [
       "CON    1000\n",
       "LAB    1000\n",
       "Name: Speaker_party, dtype: int64"
      ]
     },
     "execution_count": 29,
     "metadata": {},
     "output_type": "execute_result"
    }
   ],
   "source": [
    "# collect the speech and party affiliation data of 2021 with downsized samples of 1000\n",
    "\n",
    "speech = [] # a list to collect speech data\n",
    "party = [] # a list to collect party affiliation data\n",
    "file_names = pd.read_csv(\"2021_file_names.txt\", header=None) # read the file name lists of the year, 2021\n",
    "for f in file_names[0]:\n",
    "    if '.txt' in f: # txt file contains the speech data\n",
    "        text_data = pd.read_csv(\"2021/\"+f, sep='\\t', header=None)\n",
    "        speech.append(text_data.iloc[:,[1]])\n",
    "    else: # tsv file contains the party affiliation data\n",
    "        label_data = pd.read_csv(\"2021/\"+f, sep='\\t')\n",
    "        party.append(label_data[['Speaker_party']])\n",
    "        \n",
    "speech_party = pd.concat([speech[0],party[0]],axis=1) \n",
    "for i in range(1,len(speech)):\n",
    "    sp = pd.concat([speech[i],party[i]],axis=1)\n",
    "    speech_party = pd.concat([speech_party, sp], ignore_index=True)\n",
    "# speech_party['Speaker_party'].value_counts()\n",
    "df_CON = speech_party[speech_party['Speaker_party']=='CON'] # right party\n",
    "df_LAB = speech_party[speech_party['Speaker_party']=='LAB'] # left party\n",
    "            \n",
    "df_CON_downsampled = df_CON.sample(1000) # downsample to 1000 \n",
    "df_LAB_downsampled = df_LAB.sample(1000) # downsample to 1000\n",
    "            \n",
    "df_balanced_2021 = pd.concat([df_CON_downsampled,df_LAB_downsampled]) # downsampled speech data of 2021\n",
    "df_balanced_2021['Speaker_party'].value_counts()"
   ]
  },
  {
   "cell_type": "code",
   "execution_count": 32,
   "id": "therapeutic-diesel",
   "metadata": {},
   "outputs": [],
   "source": [
    "# put all of the year data in one data frame\n",
    "df_list = [df_balanced_2015, df_balanced_2016, df_balanced_2017, df_balanced_2018, df_balanced_2019, df_balanced_2020, df_balanced_2021]\n",
    "speech_party = pd.concat(df_list, ignore_index=True)\n",
    "speech_party.rename(columns={1:'Speech'}, inplace=True) # change the name of column which contains speech data as 'Speech'"
   ]
  },
  {
   "cell_type": "code",
   "execution_count": 35,
   "id": "angry-mailing",
   "metadata": {},
   "outputs": [
    {
     "data": {
      "text/html": [
       "<div>\n",
       "<style scoped>\n",
       "    .dataframe tbody tr th:only-of-type {\n",
       "        vertical-align: middle;\n",
       "    }\n",
       "\n",
       "    .dataframe tbody tr th {\n",
       "        vertical-align: top;\n",
       "    }\n",
       "\n",
       "    .dataframe thead th {\n",
       "        text-align: right;\n",
       "    }\n",
       "</style>\n",
       "<table border=\"1\" class=\"dataframe\">\n",
       "  <thead>\n",
       "    <tr style=\"text-align: right;\">\n",
       "      <th></th>\n",
       "      <th>Speech</th>\n",
       "      <th>Speaker_party</th>\n",
       "    </tr>\n",
       "  </thead>\n",
       "  <tbody>\n",
       "    <tr>\n",
       "      <th>0</th>\n",
       "      <td>The noble Lord is right to congratulate the co...</td>\n",
       "      <td>CON</td>\n",
       "    </tr>\n",
       "    <tr>\n",
       "      <th>1</th>\n",
       "      <td>My hon. Friend can probably guess that I am ab...</td>\n",
       "      <td>CON</td>\n",
       "    </tr>\n",
       "    <tr>\n",
       "      <th>2</th>\n",
       "      <td>Will the hon. Lady give way?</td>\n",
       "      <td>CON</td>\n",
       "    </tr>\n",
       "    <tr>\n",
       "      <th>3</th>\n",
       "      <td>T4. Would my right hon. Friend consider buildi...</td>\n",
       "      <td>CON</td>\n",
       "    </tr>\n",
       "    <tr>\n",
       "      <th>4</th>\n",
       "      <td>I believe in evidence-led policy and it is imp...</td>\n",
       "      <td>CON</td>\n",
       "    </tr>\n",
       "    <tr>\n",
       "      <th>...</th>\n",
       "      <td>...</td>\n",
       "      <td>...</td>\n",
       "    </tr>\n",
       "    <tr>\n",
       "      <th>13995</th>\n",
       "      <td>2020 was a difficult year—a year like no other...</td>\n",
       "      <td>LAB</td>\n",
       "    </tr>\n",
       "    <tr>\n",
       "      <th>13996</th>\n",
       "      <td>My Lords, your Lordships’ House recently discu...</td>\n",
       "      <td>LAB</td>\n",
       "    </tr>\n",
       "    <tr>\n",
       "      <th>13997</th>\n",
       "      <td>To ask Her Majesty’s Government what assessmen...</td>\n",
       "      <td>LAB</td>\n",
       "    </tr>\n",
       "    <tr>\n",
       "      <th>13998</th>\n",
       "      <td>I emphasise that before too long I will have t...</td>\n",
       "      <td>LAB</td>\n",
       "    </tr>\n",
       "    <tr>\n",
       "      <th>13999</th>\n",
       "      <td>Does the Secretary of State plan to issue spec...</td>\n",
       "      <td>LAB</td>\n",
       "    </tr>\n",
       "  </tbody>\n",
       "</table>\n",
       "<p>14000 rows × 2 columns</p>\n",
       "</div>"
      ],
      "text/plain": [
       "                                                  Speech Speaker_party\n",
       "0      The noble Lord is right to congratulate the co...           CON\n",
       "1      My hon. Friend can probably guess that I am ab...           CON\n",
       "2                           Will the hon. Lady give way?           CON\n",
       "3      T4. Would my right hon. Friend consider buildi...           CON\n",
       "4      I believe in evidence-led policy and it is imp...           CON\n",
       "...                                                  ...           ...\n",
       "13995  2020 was a difficult year—a year like no other...           LAB\n",
       "13996  My Lords, your Lordships’ House recently discu...           LAB\n",
       "13997  To ask Her Majesty’s Government what assessmen...           LAB\n",
       "13998  I emphasise that before too long I will have t...           LAB\n",
       "13999  Does the Secretary of State plan to issue spec...           LAB\n",
       "\n",
       "[14000 rows x 2 columns]"
      ]
     },
     "execution_count": 35,
     "metadata": {},
     "output_type": "execute_result"
    }
   ],
   "source": [
    "# count the numbers of each party\n",
    "speech_party['Speaker_party'].value_counts()"
   ]
  },
  {
   "cell_type": "code",
   "execution_count": 36,
   "id": "interstate-chile",
   "metadata": {},
   "outputs": [
    {
     "data": {
      "text/html": [
       "<div>\n",
       "<style scoped>\n",
       "    .dataframe tbody tr th:only-of-type {\n",
       "        vertical-align: middle;\n",
       "    }\n",
       "\n",
       "    .dataframe tbody tr th {\n",
       "        vertical-align: top;\n",
       "    }\n",
       "\n",
       "    .dataframe thead th {\n",
       "        text-align: right;\n",
       "    }\n",
       "</style>\n",
       "<table border=\"1\" class=\"dataframe\">\n",
       "  <thead>\n",
       "    <tr style=\"text-align: right;\">\n",
       "      <th></th>\n",
       "      <th>Speech</th>\n",
       "      <th>Speaker_party</th>\n",
       "      <th>CON</th>\n",
       "    </tr>\n",
       "  </thead>\n",
       "  <tbody>\n",
       "    <tr>\n",
       "      <th>0</th>\n",
       "      <td>The noble Lord is right to congratulate the co...</td>\n",
       "      <td>CON</td>\n",
       "      <td>1</td>\n",
       "    </tr>\n",
       "    <tr>\n",
       "      <th>1</th>\n",
       "      <td>My hon. Friend can probably guess that I am ab...</td>\n",
       "      <td>CON</td>\n",
       "      <td>1</td>\n",
       "    </tr>\n",
       "    <tr>\n",
       "      <th>2</th>\n",
       "      <td>Will the hon. Lady give way?</td>\n",
       "      <td>CON</td>\n",
       "      <td>1</td>\n",
       "    </tr>\n",
       "    <tr>\n",
       "      <th>3</th>\n",
       "      <td>T4. Would my right hon. Friend consider buildi...</td>\n",
       "      <td>CON</td>\n",
       "      <td>1</td>\n",
       "    </tr>\n",
       "    <tr>\n",
       "      <th>4</th>\n",
       "      <td>I believe in evidence-led policy and it is imp...</td>\n",
       "      <td>CON</td>\n",
       "      <td>1</td>\n",
       "    </tr>\n",
       "    <tr>\n",
       "      <th>...</th>\n",
       "      <td>...</td>\n",
       "      <td>...</td>\n",
       "      <td>...</td>\n",
       "    </tr>\n",
       "    <tr>\n",
       "      <th>13995</th>\n",
       "      <td>2020 was a difficult year—a year like no other...</td>\n",
       "      <td>LAB</td>\n",
       "      <td>0</td>\n",
       "    </tr>\n",
       "    <tr>\n",
       "      <th>13996</th>\n",
       "      <td>My Lords, your Lordships’ House recently discu...</td>\n",
       "      <td>LAB</td>\n",
       "      <td>0</td>\n",
       "    </tr>\n",
       "    <tr>\n",
       "      <th>13997</th>\n",
       "      <td>To ask Her Majesty’s Government what assessmen...</td>\n",
       "      <td>LAB</td>\n",
       "      <td>0</td>\n",
       "    </tr>\n",
       "    <tr>\n",
       "      <th>13998</th>\n",
       "      <td>I emphasise that before too long I will have t...</td>\n",
       "      <td>LAB</td>\n",
       "      <td>0</td>\n",
       "    </tr>\n",
       "    <tr>\n",
       "      <th>13999</th>\n",
       "      <td>Does the Secretary of State plan to issue spec...</td>\n",
       "      <td>LAB</td>\n",
       "      <td>0</td>\n",
       "    </tr>\n",
       "  </tbody>\n",
       "</table>\n",
       "<p>14000 rows × 3 columns</p>\n",
       "</div>"
      ],
      "text/plain": [
       "                                                  Speech Speaker_party  CON\n",
       "0      The noble Lord is right to congratulate the co...           CON    1\n",
       "1      My hon. Friend can probably guess that I am ab...           CON    1\n",
       "2                           Will the hon. Lady give way?           CON    1\n",
       "3      T4. Would my right hon. Friend consider buildi...           CON    1\n",
       "4      I believe in evidence-led policy and it is imp...           CON    1\n",
       "...                                                  ...           ...  ...\n",
       "13995  2020 was a difficult year—a year like no other...           LAB    0\n",
       "13996  My Lords, your Lordships’ House recently discu...           LAB    0\n",
       "13997  To ask Her Majesty’s Government what assessmen...           LAB    0\n",
       "13998  I emphasise that before too long I will have t...           LAB    0\n",
       "13999  Does the Secretary of State plan to issue spec...           LAB    0\n",
       "\n",
       "[14000 rows x 3 columns]"
      ]
     },
     "execution_count": 36,
     "metadata": {},
     "output_type": "execute_result"
    }
   ],
   "source": [
    "# label our dataset into 1 and 0\n",
    "# if it is right party, label would be 1 and if it is left party, label would be 0\n",
    "speech_party['CON']=speech_party['Speaker_party'].apply(lambda x: 1 if x=='CON' else 0) \n",
    "speech_party"
   ]
  },
  {
   "cell_type": "code",
   "execution_count": 37,
   "id": "bacterial-artist",
   "metadata": {},
   "outputs": [],
   "source": [
    "# split the dataset using the train_test_split\n",
    "from sklearn.model_selection import train_test_split\n",
    "\n",
    "X = speech_party.Speech.values\n",
    "y = speech_party.CON.values\n",
    "\n",
    "X_train, X_test, y_train, y_test = train_test_split(X,y,stratify=speech_party['CON'])"
   ]
  },
  {
   "cell_type": "code",
   "execution_count": 38,
   "id": "tested-intake",
   "metadata": {},
   "outputs": [
    {
     "name": "stdout",
     "output_type": "stream",
     "text": [
      "Model: \"model\"\n",
      "__________________________________________________________________________________________________\n",
      " Layer (type)                   Output Shape         Param #     Connected to                     \n",
      "==================================================================================================\n",
      " text (InputLayer)              [(None,)]            0           []                               \n",
      "                                                                                                  \n",
      " keras_layer (KerasLayer)       {'input_type_ids':   0           ['text[0][0]']                   \n",
      "                                (None, 128),                                                      \n",
      "                                 'input_word_ids':                                                \n",
      "                                (None, 128),                                                      \n",
      "                                 'input_mask': (Non                                               \n",
      "                                e, 128)}                                                          \n",
      "                                                                                                  \n",
      " keras_layer_1 (KerasLayer)     {'sequence_output':  109482241   ['keras_layer[0][0]',            \n",
      "                                 (None, 128, 768),                'keras_layer[0][1]',            \n",
      "                                 'encoder_outputs':               'keras_layer[0][2]']            \n",
      "                                 [(None, 128, 768),                                               \n",
      "                                 (None, 128, 768),                                                \n",
      "                                 (None, 128, 768),                                                \n",
      "                                 (None, 128, 768),                                                \n",
      "                                 (None, 128, 768),                                                \n",
      "                                 (None, 128, 768),                                                \n",
      "                                 (None, 128, 768),                                                \n",
      "                                 (None, 128, 768),                                                \n",
      "                                 (None, 128, 768),                                                \n",
      "                                 (None, 128, 768),                                                \n",
      "                                 (None, 128, 768),                                                \n",
      "                                 (None, 128, 768)],                                               \n",
      "                                 'pooled_output': (                                               \n",
      "                                None, 768),                                                       \n",
      "                                 'default': (None,                                                \n",
      "                                768)}                                                             \n",
      "                                                                                                  \n",
      " dropout (Dropout)              (None, 768)          0           ['keras_layer_1[0][13]']         \n",
      "                                                                                                  \n",
      " output (Dense)                 (None, 1)            769         ['dropout[0][0]']                \n",
      "                                                                                                  \n",
      "==================================================================================================\n",
      "Total params: 109,483,010\n",
      "Trainable params: 769\n",
      "Non-trainable params: 109,482,241\n",
      "__________________________________________________________________________________________________\n"
     ]
    }
   ],
   "source": [
    "# download the BERT model\n",
    "bert_preprocess = hub.KerasLayer(\"https://tfhub.dev/tensorflow/bert_en_uncased_preprocess/3\")\n",
    "bert_encoder = hub.KerasLayer(\"https://tfhub.dev/tensorflow/bert_en_uncased_L-12_H-768_A-12/4\")\n",
    "\n",
    "# initializing the BERT layers\n",
    "text_input = tf.keras.layers.Input(shape=(), dtype=tf.string, name='text')\n",
    "preprocessed_text = bert_preprocess(text_input)\n",
    "outputs = bert_encoder(preprocessed_text)\n",
    "\n",
    "# initializing the neural network layers\n",
    "l = tf.keras.layers.Dropout(0.1, name=\"dropout\")(outputs['pooled_output'])\n",
    "l = tf.keras.layers.Dense(1, activation='sigmoid', name=\"output\")(l)\n",
    "\n",
    "model = tf.keras.Model(inputs=[text_input], outputs = [l])\n",
    "model.summary()"
   ]
  },
  {
   "cell_type": "code",
   "execution_count": 39,
   "id": "ranking-estimate",
   "metadata": {},
   "outputs": [],
   "source": [
    "# model compiling\n",
    "# set the optimizer, the loss function, and the metrics for the model\n",
    "METRICS = [tf.keras.metrics.BinaryAccuracy(name='accuracy'),\n",
    "           tf.keras.metrics.Precision(name='precision'),\n",
    "           tf.keras.metrics.Recall(name='recall')]\n",
    "\n",
    "model.compile(optimizer='adam', loss='binary_crossentropy', metrics=METRICS)"
   ]
  },
  {
   "cell_type": "code",
   "execution_count": 41,
   "id": "dependent-export",
   "metadata": {},
   "outputs": [
    {
     "name": "stdout",
     "output_type": "stream",
     "text": [
      "Epoch 1/5\n",
      "329/329 [==============================] - 10872s 33s/step - loss: 0.6850 - accuracy: 0.5674 - precision: 0.5661 - recall: 0.5773\n",
      "Epoch 2/5\n",
      "329/329 [==============================] - 10840s 33s/step - loss: 0.6540 - accuracy: 0.6118 - precision: 0.6114 - recall: 0.6137\n",
      "Epoch 3/5\n",
      "329/329 [==============================] - 10832s 33s/step - loss: 0.6425 - accuracy: 0.6332 - precision: 0.6348 - recall: 0.6274\n",
      "Epoch 4/5\n",
      "329/329 [==============================] - 10987s 33s/step - loss: 0.6344 - accuracy: 0.6365 - precision: 0.6387 - recall: 0.6286\n",
      "Epoch 5/5\n",
      "329/329 [==============================] - 12337s 38s/step - loss: 0.6241 - accuracy: 0.6510 - precision: 0.6540 - recall: 0.6415\n"
     ]
    },
    {
     "data": {
      "text/plain": [
       "<keras.callbacks.History at 0x2497ba33430>"
      ]
     },
     "execution_count": 41,
     "metadata": {},
     "output_type": "execute_result"
    }
   ],
   "source": [
    "# fitting the model\n",
    "model.fit(X_train, y_train, epochs=5)"
   ]
  },
  {
   "cell_type": "code",
   "execution_count": 59,
   "id": "floating-supplier",
   "metadata": {},
   "outputs": [],
   "source": [
    "# Evaluating model\n",
    "import numpy as np\n",
    "\n",
    "preds = model.predict(X_test) # getting predictions\n",
    "preds = preds.flatten()\n",
    "\n",
    "y_predicted = np.where(preds > 0.5, 1, 0) # predicted results"
   ]
  },
  {
   "cell_type": "code",
   "execution_count": 65,
   "id": "hindu-arcade",
   "metadata": {},
   "outputs": [
    {
     "name": "stdout",
     "output_type": "stream",
     "text": [
      "              precision    recall  f1-score   support\n",
      "\n",
      "           0       0.73      0.40      0.51      1750\n",
      "           1       0.59      0.85      0.69      1750\n",
      "\n",
      "    accuracy                           0.62      3500\n",
      "   macro avg       0.66      0.62      0.60      3500\n",
      "weighted avg       0.66      0.62      0.60      3500\n",
      "\n"
     ]
    }
   ],
   "source": [
    "# classification report metric by label\n",
    "from sklearn.metrics import classification_report\n",
    "print(classification_report(y_test, y_predicted))"
   ]
  },
  {
   "cell_type": "code",
   "execution_count": 63,
   "id": "still-trace",
   "metadata": {
    "scrolled": true
   },
   "outputs": [
    {
     "name": "stdout",
     "output_type": "stream",
     "text": [
      "Accuracy: 62.40%\n",
      "AUC: 0.7370\n"
     ]
    },
    {
     "data": {
      "image/png": "[encoded data removed]",
      "text/plain": [
       "<Figure size 432x288 with 1 Axes>"
      ]
     },
     "metadata": {
      "needs_background": "light"
     },
     "output_type": "display_data"
    }
   ],
   "source": [
    "from sklearn.metrics import accuracy_score, roc_curve, auc\n",
    "import matplotlib.pyplot as plt\n",
    "\n",
    "# accuracy over the test set\n",
    "accuracy = accuracy_score(y_test, y_predicted)\n",
    "print(f'Accuracy: {accuracy*100:.2f}%')\n",
    "\n",
    "# AUC over the test set\n",
    "fpr, tpr, threshold = roc_curve(y_test, preds)\n",
    "roc_auc = auc(fpr, tpr)\n",
    "print(f'AUC: {roc_auc:.4f}')\n",
    "\n",
    "# Plot ROC AUC\n",
    "plt.title('Receiver Operating Characteristic')\n",
    "plt.plot(fpr, tpr, 'b', label = 'AUC = %0.2f' % roc_auc)\n",
    "plt.legend(loc = 'lower right')\n",
    "plt.plot([0, 1], [0, 1],'r--')\n",
    "plt.xlim([0, 1])\n",
    "plt.ylim([0, 1])\n",
    "plt.ylabel('True Positive Rate')\n",
    "plt.xlabel('False Positive Rate')\n",
    "plt.show()"
   ]
  },
  {
   "cell_type": "code",
   "execution_count": null,
   "id": "polished-craps",
   "metadata": {},
   "outputs": [],
   "source": []
  }
 ],
 "metadata": {
  "kernelspec": {
   "display_name": "Python 3",
   "language": "python",
   "name": "python3"
  },
  "language_info": {
   "codemirror_mode": {
    "name": "ipython",
    "version": 3
   },
   "file_extension": ".py",
   "mimetype": "text/x-python",
   "name": "python",
   "nbconvert_exporter": "python",
   "pygments_lexer": "ipython3",
   "version": "3.8.5"
  }
 },
 "nbformat": 4,
 "nbformat_minor": 5
}
